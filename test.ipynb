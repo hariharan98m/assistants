{
 "cells": [
  {
   "cell_type": "code",
   "execution_count": 1,
   "metadata": {},
   "outputs": [],
   "source": [
    "import os\n",
    "from dotenv import load_dotenv\n",
    "load_dotenv()\n",
    "\n",
    "os.environ[\"OPENAI_API_KEY\"] = os.getenv(\"OPENAI_API_KEY\")  # Replace with your key\n",
    "\n",
    "from openai import OpenAI\n",
    "client = OpenAI()"
   ]
  },
  {
   "cell_type": "code",
   "execution_count": 2,
   "metadata": {},
   "outputs": [],
   "source": [
    "file = client.files.create(\n",
    "  file=open(\"wiki.txt\", \"rb\"),\n",
    "  purpose='assistants'\n",
    ")\n",
    "\n",
    "# Add the file to the assistant\n",
    "assistant = client.beta.assistants.create(\n",
    "  instructions='''You are a code helper. Your role is now focused solely on helping users with terminal commands.\n",
    "  Provide guidance on using various shell commands, explain command line interfaces, and assist in troubleshooting terminal issues.\n",
    "  Offer clear, step-by-step instructions for executing and understanding terminal commands. Avoid providing commands that could be harmful or irreversible without proper warning.\n",
    "  If unclear about the user's requirements, ask for clarification.\n",
    "  Your responses should be informative, precise, and tailored to users ranging from beginners to advanced.''',\n",
    "  model=\"gpt-4-1106-preview\",\n",
    "  tools=[{\"type\": \"retrieval\"}],\n",
    "  file_ids=[file.id]\n",
    ")"
   ]
  },
  {
   "cell_type": "code",
   "execution_count": 41,
   "metadata": {},
   "outputs": [
    {
     "data": {
      "text/plain": [
       "Assistant(id='asst_tkYkle3CFzT2ISdEoXZgIYM0', created_at=1706019403, description=None, file_ids=['file-fD1cNVK0qNlB5h5aoBYndV53'], instructions=\"You are a code helper. Your role is now focused solely on helping users with terminal commands.\\n  Provide guidance on using various shell commands, explain command line interfaces, and assist in troubleshooting terminal issues.\\n  Offer clear, step-by-step instructions for executing and understanding terminal commands. Avoid providing commands that could be harmful or irreversible without proper warning.\\n  If unclear about the user's requirements, ask for clarification.\\n  Your responses should be informative, precise, and tailored to users ranging from beginners to advanced.\", metadata={}, model='gpt-4-1106-preview', name=None, object='assistant', tools=[ToolRetrieval(type='retrieval')])"
      ]
     },
     "execution_count": 41,
     "metadata": {},
     "output_type": "execute_result"
    }
   ],
   "source": [
    "assistant"
   ]
  },
  {
   "cell_type": "code",
   "execution_count": 3,
   "metadata": {},
   "outputs": [],
   "source": [
    "thread = client.beta.threads.create()"
   ]
  },
  {
   "cell_type": "code",
   "execution_count": 27,
   "metadata": {},
   "outputs": [],
   "source": [
    "# message = client.beta.threads.messages.create(\n",
    "#     thread_id=thread.id,\n",
    "#     role=\"user\",\n",
    "#     content=\"How to create an ec2 instance in eu-west-2?\"\n",
    "# )\n",
    "\n",
    "message = client.beta.threads.messages.create(\n",
    "    thread_id=thread.id,\n",
    "    role=\"user\",\n",
    "    content=\"Okay cool, Im facing some error.. can you help?\"\n",
    ")"
   ]
  },
  {
   "cell_type": "code",
   "execution_count": 34,
   "metadata": {
    "scrolled": true
   },
   "outputs": [
    {
     "data": {
      "text/plain": [
       "SyncCursorPage[ThreadMessage](data=[ThreadMessage(id='msg_aEGtxI68Dx1SWJmQSH2vIAi7', assistant_id='asst_tkYkle3CFzT2ISdEoXZgIYM0', content=[MessageContentText(text=Text(annotations=[], value=\"Absolutely, I'd be happy to help you troubleshoot the error you're facing. Please provide me with the following information:\\n\\n1. The specific command or action you were trying to perform when you encountered the error.\\n2. The exact text of the error message you received.\\n3. Any relevant details about your AWS configuration or the state of your resources that might help diagnose the issue.\\n\\nRemember to omit any sensitive information such as your Access Key, Secret Key, or other credentials when sharing error messages.\"), type='text')], created_at=1706019640, file_ids=[], metadata={}, object='thread.message', role='assistant', run_id='run_CZi8VdMhi9a7DjcD2J8mrKov', thread_id='thread_lDjnYqjALmGzJYaN8Qpx7mhK'), ThreadMessage(id='msg_f0L9qoeYIayjaf52fFIZMjpw', assistant_id=None, content=[MessageContentText(text=Text(annotations=[], value='Okay cool, Im facing some error.. can you help?'), type='text')], created_at=1706019630, file_ids=[], metadata={}, object='thread.message', role='user', run_id=None, thread_id='thread_lDjnYqjALmGzJYaN8Qpx7mhK'), ThreadMessage(id='msg_gdgwZ5l8nz5ABVnw4GSHNk3o', assistant_id='asst_tkYkle3CFzT2ISdEoXZgIYM0', content=[MessageContentText(text=Text(annotations=[], value='Creating an Amazon EC2 instance in the `eu-west-2` region (London) can be done using the AWS Management Console, AWS Command Line Interface (CLI), or AWS SDKs. Below I\\'ll provide an example of how to do it using the AWS CLI.\\n\\nBefore you proceed, ensure you have the following:\\n\\n1. AWS Account: You should have an AWS account set up.\\n2. AWS CLI: Make sure you have installed and configured AWS CLI with the necessary IAM permissions to create EC2 instances.\\n3. SSH Key Pair: You will need an SSH key pair for the `eu-west-2` region to be able to SSH into your instance once it\\'s running. If you don\\'t already have one, you can create it using AWS CLI or console.\\n\\nHere\\'s how to create an EC2 instance in the `eu-west-2` region using AWS CLI:\\n\\n1. **List available Amazon Machine Images (AMIs)**: You\\'ll need to choose an AMI that is in the `eu-west-2` region to start your EC2 instance. To find an AMI, use:\\n\\n   ```sh\\n   aws ec2 describe-images --region eu-west-2 --owners amazon\\n   ```\\n\\n   Look in the output for an AMI ID that you want to use. For a basic example, you can usually find an Amazon Linux or Ubuntu AMI.\\n\\n2. **Create a key pair (if necessary)**: If you don’t have a key pair, create one using the following command:\\n\\n   ```sh\\n   aws ec2 create-key-pair --key-name MyKeyPair --query \\'KeyMaterial\\' --output text --region eu-west-2 > MyKeyPair.pem\\n   ```\\n\\n   Make sure to replace `MyKeyPair` with your preferred key name. This will create a key pair and save the private key in a file named `MyKeyPair.pem`. Make sure to set the correct permissions for the `.pem` file:\\n\\n   ```sh\\n   chmod 400 MyKeyPair.pem\\n   ```\\n\\n3. **Create a Security Group**: Create a security group that allows SSH access:\\n\\n   ```sh\\n   aws ec2 create-security-group --group-name my-security-group --description \"My security group\" --region eu-west-2\\n   ```\\n\\n   Take note of the returned Security Group ID.\\n\\n   Then, add a rule to allow SSH:\\n\\n   ```sh\\n   aws ec2 authorize-security-group-ingress --group-id YOUR_SECURITY_GROUP_ID --protocol tcp --port 22 --cidr 0.0.0.0/0 --region eu-west-2\\n   ```\\n\\n   Replace `YOUR_SECURITY_GROUP_ID` with the ID of the security group you just created.\\n\\n4. **Launch an EC2 instance**: Assuming you have the AMI ID and key pair, you can launch your instance with something like:\\n\\n   ```sh\\n   aws ec2 run-instances --image-id AMI_ID --count 1 --instance-type t2.micro --key-name MyKeyPair --security-group-ids YOUR_SECURITY_GROUP_ID --region eu-west-2\\n   ```\\n\\n   Replace `AMI_ID` with the ID of the AMI you\\'ve chosen, and `YOUR_SECURITY_GROUP_ID` with your actual security group ID.\\n\\nAfter executing these commands, AWS will start launching your instance in the `eu-west-2` region. It may take a few minutes for your instance to be available.\\n\\nTo check the status of your instance, you can use:\\n\\n```sh\\naws ec2 describe-instances --instance-id YOUR_INSTANCE_ID --region eu-west-2\\n```\\n\\nRemember to replace `YOUR_INSTANCE_ID` with the actual instance ID provided in the output of the `run-instances` command.\\n\\nThat\\'s it! You\\'ve created an EC2 instance in the `eu-west-2` region using the AWS CLI. Remember to manage your instances to avoid unexpected charges, and shut them down when they\\'re not needed.'), type='text')], created_at=1706019414, file_ids=[], metadata={}, object='thread.message', role='assistant', run_id='run_il3DDTN2ZavJ7OYKhvdmaTln', thread_id='thread_lDjnYqjALmGzJYaN8Qpx7mhK'), ThreadMessage(id='msg_syNsyCMSU2CWiMQyYL7cI8ur', assistant_id=None, content=[MessageContentText(text=Text(annotations=[], value='How to create an ec2 instance in eu-west-2?'), type='text')], created_at=1706019406, file_ids=[], metadata={}, object='thread.message', role='user', run_id=None, thread_id='thread_lDjnYqjALmGzJYaN8Qpx7mhK')], object='list', first_id='msg_aEGtxI68Dx1SWJmQSH2vIAi7', last_id='msg_syNsyCMSU2CWiMQyYL7cI8ur', has_more=False)"
      ]
     },
     "execution_count": 34,
     "metadata": {},
     "output_type": "execute_result"
    }
   ],
   "source": [
    "messages = client.beta.threads.messages.list(\n",
    "  thread_id=thread.id\n",
    ")\n",
    "messages"
   ]
  },
  {
   "cell_type": "code",
   "execution_count": 35,
   "metadata": {},
   "outputs": [
    {
     "name": "stdout",
     "output_type": "stream",
     "text": [
      "--------------------------------------------------\n",
      "Absolutely, I'd be happy to help you troubleshoot the error you're facing. Please provide me with the following information:\n",
      "\n",
      "1. The specific command or action you were trying to perform when you encountered the error.\n",
      "2. The exact text of the error message you received.\n",
      "3. Any relevant details about your AWS configuration or the state of your resources that might help diagnose the issue.\n",
      "\n",
      "Remember to omit any sensitive information such as your Access Key, Secret Key, or other credentials when sharing error messages.\n",
      "--------------------------------------------------\n",
      "Okay cool, Im facing some error.. can you help?\n",
      "--------------------------------------------------\n",
      "Creating an Amazon EC2 instance in the `eu-west-2` region (London) can be done using the AWS Management Console, AWS Command Line Interface (CLI), or AWS SDKs. Below I'll provide an example of how to do it using the AWS CLI.\n",
      "\n",
      "Before you proceed, ensure you have the following:\n",
      "\n",
      "1. AWS Account: You should have an AWS account set up.\n",
      "2. AWS CLI: Make sure you have installed and configured AWS CLI with the necessary IAM permissions to create EC2 instances.\n",
      "3. SSH Key Pair: You will need an SSH key pair for the `eu-west-2` region to be able to SSH into your instance once it's running. If you don't already have one, you can create it using AWS CLI or console.\n",
      "\n",
      "Here's how to create an EC2 instance in the `eu-west-2` region using AWS CLI:\n",
      "\n",
      "1. **List available Amazon Machine Images (AMIs)**: You'll need to choose an AMI that is in the `eu-west-2` region to start your EC2 instance. To find an AMI, use:\n",
      "\n",
      "   ```sh\n",
      "   aws ec2 describe-images --region eu-west-2 --owners amazon\n",
      "   ```\n",
      "\n",
      "   Look in the output for an AMI ID that you want to use. For a basic example, you can usually find an Amazon Linux or Ubuntu AMI.\n",
      "\n",
      "2. **Create a key pair (if necessary)**: If you don’t have a key pair, create one using the following command:\n",
      "\n",
      "   ```sh\n",
      "   aws ec2 create-key-pair --key-name MyKeyPair --query 'KeyMaterial' --output text --region eu-west-2 > MyKeyPair.pem\n",
      "   ```\n",
      "\n",
      "   Make sure to replace `MyKeyPair` with your preferred key name. This will create a key pair and save the private key in a file named `MyKeyPair.pem`. Make sure to set the correct permissions for the `.pem` file:\n",
      "\n",
      "   ```sh\n",
      "   chmod 400 MyKeyPair.pem\n",
      "   ```\n",
      "\n",
      "3. **Create a Security Group**: Create a security group that allows SSH access:\n",
      "\n",
      "   ```sh\n",
      "   aws ec2 create-security-group --group-name my-security-group --description \"My security group\" --region eu-west-2\n",
      "   ```\n",
      "\n",
      "   Take note of the returned Security Group ID.\n",
      "\n",
      "   Then, add a rule to allow SSH:\n",
      "\n",
      "   ```sh\n",
      "   aws ec2 authorize-security-group-ingress --group-id YOUR_SECURITY_GROUP_ID --protocol tcp --port 22 --cidr 0.0.0.0/0 --region eu-west-2\n",
      "   ```\n",
      "\n",
      "   Replace `YOUR_SECURITY_GROUP_ID` with the ID of the security group you just created.\n",
      "\n",
      "4. **Launch an EC2 instance**: Assuming you have the AMI ID and key pair, you can launch your instance with something like:\n",
      "\n",
      "   ```sh\n",
      "   aws ec2 run-instances --image-id AMI_ID --count 1 --instance-type t2.micro --key-name MyKeyPair --security-group-ids YOUR_SECURITY_GROUP_ID --region eu-west-2\n",
      "   ```\n",
      "\n",
      "   Replace `AMI_ID` with the ID of the AMI you've chosen, and `YOUR_SECURITY_GROUP_ID` with your actual security group ID.\n",
      "\n",
      "After executing these commands, AWS will start launching your instance in the `eu-west-2` region. It may take a few minutes for your instance to be available.\n",
      "\n",
      "To check the status of your instance, you can use:\n",
      "\n",
      "```sh\n",
      "aws ec2 describe-instances --instance-id YOUR_INSTANCE_ID --region eu-west-2\n",
      "```\n",
      "\n",
      "Remember to replace `YOUR_INSTANCE_ID` with the actual instance ID provided in the output of the `run-instances` command.\n",
      "\n",
      "That's it! You've created an EC2 instance in the `eu-west-2` region using the AWS CLI. Remember to manage your instances to avoid unexpected charges, and shut them down when they're not needed.\n",
      "--------------------------------------------------\n",
      "How to create an ec2 instance in eu-west-2?\n"
     ]
    }
   ],
   "source": [
    "for message in messages.data:\n",
    "    text = message.content[0].text.value\n",
    "    print('-' * 50)\n",
    "    print(text)"
   ]
  },
  {
   "cell_type": "markdown",
   "metadata": {},
   "source": [
    "parse messages"
   ]
  },
  {
   "cell_type": "code",
   "execution_count": 28,
   "metadata": {},
   "outputs": [],
   "source": [
    "run = client.beta.threads.runs.create(\n",
    "  thread_id=thread.id,\n",
    "  assistant_id=assistant.id,\n",
    ")"
   ]
  },
  {
   "cell_type": "code",
   "execution_count": 31,
   "metadata": {},
   "outputs": [
    {
     "data": {
      "text/plain": [
       "Run(id='run_CZi8VdMhi9a7DjcD2J8mrKov', assistant_id='asst_tkYkle3CFzT2ISdEoXZgIYM0', cancelled_at=None, completed_at=None, created_at=1706019639, expires_at=1706020239, failed_at=None, file_ids=['file-fD1cNVK0qNlB5h5aoBYndV53'], instructions=\"You are a code helper. Your role is now focused solely on helping users with terminal commands.\\n  Provide guidance on using various shell commands, explain command line interfaces, and assist in troubleshooting terminal issues.\\n  Offer clear, step-by-step instructions for executing and understanding terminal commands. Avoid providing commands that could be harmful or irreversible without proper warning.\\n  If unclear about the user's requirements, ask for clarification.\\n  Your responses should be informative, precise, and tailored to users ranging from beginners to advanced.\", last_error=None, metadata={}, model='gpt-4-1106-preview', object='thread.run', required_action=None, started_at=None, status='queued', thread_id='thread_lDjnYqjALmGzJYaN8Qpx7mhK', tools=[ToolAssistantToolsRetrieval(type='retrieval')], usage=None)"
      ]
     },
     "execution_count": 31,
     "metadata": {},
     "output_type": "execute_result"
    }
   ],
   "source": [
    "run"
   ]
  },
  {
   "cell_type": "code",
   "execution_count": 37,
   "metadata": {},
   "outputs": [
    {
     "data": {
      "text/plain": [
       "'completed'"
      ]
     },
     "execution_count": 37,
     "metadata": {},
     "output_type": "execute_result"
    }
   ],
   "source": [
    "client.beta.threads.runs.retrieve(\n",
    "  thread_id=thread.id,\n",
    "  run_id=run.id\n",
    ").status"
   ]
  },
  {
   "cell_type": "code",
   "execution_count": null,
   "metadata": {},
   "outputs": [],
   "source": []
  }
 ],
 "metadata": {
  "kernelspec": {
   "display_name": "Python 3 (ipykernel)",
   "language": "python",
   "name": "python3"
  },
  "language_info": {
   "codemirror_mode": {
    "name": "ipython",
    "version": 3
   },
   "file_extension": ".py",
   "mimetype": "text/x-python",
   "name": "python",
   "nbconvert_exporter": "python",
   "pygments_lexer": "ipython3",
   "version": "3.11.3"
  }
 },
 "nbformat": 4,
 "nbformat_minor": 4
}
